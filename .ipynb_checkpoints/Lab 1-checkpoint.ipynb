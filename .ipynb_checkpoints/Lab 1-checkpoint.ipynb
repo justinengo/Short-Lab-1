{
 "cells": [
  {
   "cell_type": "markdown",
   "id": "5302f0bb",
   "metadata": {},
   "source": [
    "203653  \n",
    "Ngo  \n",
    "2 BS ITE  "
   ]
  },
  {
   "cell_type": "code",
   "execution_count": 14,
   "id": "f534161a",
   "metadata": {
    "scrolled": true
   },
   "outputs": [
    {
     "name": "stdout",
     "output_type": "stream",
     "text": [
      "Enter amount of dollars 70\n"
     ]
    },
    {
     "data": {
      "text/plain": [
       "'70 US dollar(s) = 3500.0 Philippine Pesos'"
      ]
     },
     "execution_count": 14,
     "metadata": {},
     "output_type": "execute_result"
    }
   ],
   "source": [
    "# Problem 1\n",
    "def dollars_to_peso (dollars):\n",
    "    pesos = float(dollars*50)\n",
    "    return str(dollars) + \" US dollar(s) \" + \"= \" + str(pesos) + \" Philippine Pesos\"\n",
    "dollars = int(input(\"Enter amount of dollars \"))\n",
    "dollars_to_peso (dollars)"
   ]
  },
  {
   "cell_type": "code",
   "execution_count": 40,
   "id": "243ffd58",
   "metadata": {},
   "outputs": [
    {
     "name": "stdout",
     "output_type": "stream",
     "text": [
      "3\n",
      "4\n",
      "7\n",
      "-1\n",
      "12\n",
      "0\n",
      "3\n"
     ]
    }
   ],
   "source": [
    "#Problem 2\n",
    "def perform_operations (x,y):\n",
    "    print(x+y) \n",
    "    print(x-y)\n",
    "    print(x*y)\n",
    "    print(x//y)\n",
    "    print(x%y)\n",
    "x = int(input())\n",
    "y = int(input())\n",
    "perform_operations (x,y)"
   ]
  },
  {
   "cell_type": "code",
   "execution_count": null,
   "id": "d215a18f",
   "metadata": {
    "scrolled": false
   },
   "outputs": [],
   "source": []
  },
  {
   "cell_type": "code",
   "execution_count": 39,
   "id": "a8a40489",
   "metadata": {},
   "outputs": [
    {
     "name": "stdout",
     "output_type": "stream",
     "text": [
      "40\n",
      "1.5\n"
     ]
    },
    {
     "data": {
      "text/plain": [
       "'17.77777777777778'"
      ]
     },
     "execution_count": 39,
     "metadata": {},
     "output_type": "execute_result"
    }
   ],
   "source": [
    "# Problem 3\n",
    "def bmi (kg, cm):\n",
    "    bmi = (kg)/(cm**2)\n",
    "    return str(bmi)\n",
    "kg = float(input())\n",
    "cm = float(input())\n",
    "bmi (kg, cm)"
   ]
  },
  {
   "cell_type": "code",
   "execution_count": null,
   "id": "b7abf649",
   "metadata": {},
   "outputs": [],
   "source": []
  }
 ],
 "metadata": {
  "kernelspec": {
   "display_name": "Python 3",
   "language": "python",
   "name": "python3"
  },
  "language_info": {
   "codemirror_mode": {
    "name": "ipython",
    "version": 3
   },
   "file_extension": ".py",
   "mimetype": "text/x-python",
   "name": "python",
   "nbconvert_exporter": "python",
   "pygments_lexer": "ipython3",
   "version": "3.8.8"
  }
 },
 "nbformat": 4,
 "nbformat_minor": 5
}
